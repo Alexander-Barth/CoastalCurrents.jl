{
 "cells": [
  {
   "cell_type": "markdown",
   "id": "8be4e85f-8b43-45a4-83c7-3ed4ea6a1972",
   "metadata": {},
   "source": [
    "# Welcome to VLab 2 for CoastalCurrents from observations\n",
    "\n",
    "##### This VLab will give you maps for Mediterranean surface currents using an interpolation tool from satellite, radars and drifters observations\n",
    "##### The present jupyter notebook aims to build your code environment in order to get you the source code and the necessary dataset"
   ]
  },
  {
   "cell_type": "code",
   "execution_count": null,
   "id": "4ffb2245-491e-4efd-9714-59a68b3784d5",
   "metadata": {},
   "outputs": [],
   "source": [
    "# Create necessary path to store the :\n",
    "mkpath(\"/home/jovyan/CoastalCurrents\") # source code\n",
    "mkpath(\"/home/jovyan/tmp\") # datasets\n"
   ]
  },
  {
   "cell_type": "code",
   "execution_count": null,
   "id": "2e910212-d76d-4513-bf78-4f21d47b308a",
   "metadata": {},
   "outputs": [],
   "source": [
    "# Copying the source code inside /home/jovyan/CoastalCurrents/\n",
    "cp(\"/home/jovyan/workspace/VREFolders/CoastalCurrentsFromObservations/CoastalCurrents.jl/\",\"/home/jovyan/CoastalCurrents/\"; force=true)\n"
   ]
  },
  {
   "cell_type": "code",
   "execution_count": null,
   "id": "d5fb2e82-51ff-46af-9481-703d7101f760",
   "metadata": {},
   "outputs": [],
   "source": [
    "# unzip the dataset inside /home/jovyan/tmp/\n",
    "run(`tar -xf CoastalCurrents_Data.tar.gz -C /home/jovyan/tmp/`)\n"
   ]
  },
  {
   "cell_type": "code",
   "execution_count": 11,
   "id": "a2d28ace-49ad-404e-8381-dea3d4338355",
   "metadata": {},
   "outputs": [
    {
     "name": "stderr",
     "output_type": "stream",
     "text": [
      "Cloning into 'PhysOcean.jl'...\n"
     ]
    },
    {
     "data": {
      "text/plain": [
       "Process(`\u001b[4mgit\u001b[24m \u001b[4mclone\u001b[24m \u001b[4mhttps://github.com/gher-uliege/PhysOcean.jl.git\u001b[24m`, ProcessExited(0))"
      ]
     },
     "execution_count": 11,
     "metadata": {},
     "output_type": "execute_result"
    }
   ],
   "source": [
    "# Download of a git package\n",
    "\n",
    "run(`git clone https://github.com/gher-uliege/PhysOcean.jl.git`)\n"
   ]
  },
  {
   "cell_type": "markdown",
   "id": "402903fd-252c-404d-a6e9-708c464e200c",
   "metadata": {},
   "source": [
    "### Once these cells are runned, go to /home/jovyan/CoastalCurrents/examples/Main_Surface_Currents.ipynb and run the present code"
   ]
  }
 ],
 "metadata": {
  "kernelspec": {
   "display_name": "Julia 1.9.3 [conda env:base] *",
   "language": "julia",
   "name": "conda-base-julia-1.9"
  },
  "language_info": {
   "file_extension": ".jl",
   "mimetype": "application/julia",
   "name": "julia",
   "version": "1.9.3"
  }
 },
 "nbformat": 4,
 "nbformat_minor": 5
}
