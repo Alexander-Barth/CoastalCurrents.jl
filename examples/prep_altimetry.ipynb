{
 "cells": [
  {
   "cell_type": "markdown",
   "id": "0153a68d",
   "metadata": {},
   "source": [
    "\n",
    "# Altimetry data preparation\n",
    "\n",
    "This notebooks downloads all altimetry CMEMS data for a given\n",
    "product id. The data within a given bounding box is then loaded\n",
    "\n",
    "Load all necessary modules"
   ]
  },
  {
   "cell_type": "code",
   "execution_count": null,
   "id": "75da4945",
   "metadata": {},
   "outputs": [],
   "source": [
    "using CoastalCurrents\n",
    "using CoastalCurrents: Altimetry\n",
    "using ProgressMeter\n",
    "using Test\n",
    "using PyPlot\n",
    "using GeoDatasets\n",
    "using DIVAnd\n",
    "using Dates"
   ]
  },
  {
   "cell_type": "markdown",
   "id": "da96238b",
   "metadata": {},
   "source": [
    "Define common parameters, among others\n",
    "the bounding box, the CMEMS product ID\n",
    "CMEMS username, CMEMS password, ..."
   ]
  },
  {
   "cell_type": "code",
   "execution_count": null,
   "id": "9bc3ad3a",
   "metadata": {},
   "outputs": [],
   "source": [
    "include(\"common.jl\")"
   ]
  },
  {
   "cell_type": "markdown",
   "id": "65cef364",
   "metadata": {},
   "source": [
    "The base URL"
   ]
  },
  {
   "cell_type": "code",
   "execution_count": null,
   "id": "4654a0df",
   "metadata": {},
   "outputs": [],
   "source": [
    "url = \"ftp://my.cmems-du.eu/Core/\" * product_id"
   ]
  },
  {
   "cell_type": "markdown",
   "id": "d9f99229",
   "metadata": {},
   "source": [
    "Recursive download of all files under url\n",
    "unless they are already present"
   ]
  },
  {
   "cell_type": "code",
   "execution_count": null,
   "id": "a014e1ff",
   "metadata": {},
   "outputs": [],
   "source": [
    "fnames = Altimetry.download(url,basedir,username,password);"
   ]
  },
  {
   "cell_type": "markdown",
   "id": "616d7994",
   "metadata": {},
   "source": [
    "As a test consider only the first 100 tracks"
   ]
  },
  {
   "cell_type": "markdown",
   "id": "aa05a78c",
   "metadata": {},
   "source": [
    "sel = 1:100\n",
    "fnames = fnames[sel]"
   ]
  },
  {
   "cell_type": "markdown",
   "id": "b1e1c6da",
   "metadata": {},
   "source": [
    "Load the data in all files with the bounding box defined by `lonr` and `latr`"
   ]
  },
  {
   "cell_type": "code",
   "execution_count": null,
   "id": "5c29ad54",
   "metadata": {},
   "outputs": [],
   "source": [
    "sla,slaf,mdt,lon,lat,time,id = Altimetry.load(fnames,lonr,latr,Altimetry.mission_ids);"
   ]
  },
  {
   "cell_type": "markdown",
   "id": "d504da14",
   "metadata": {},
   "source": [
    "Plot the first 30 tracks"
   ]
  },
  {
   "cell_type": "code",
   "execution_count": null,
   "id": "1e69221f",
   "metadata": {},
   "outputs": [],
   "source": [
    "ntracks = 30\n",
    "figure()\n",
    "for id0 in unique(id)[1:ntracks]\n",
    "    i = id0 .== id\n",
    "    scatter(lon[i],lat[i],10,sla[i])\n",
    "end\n",
    "colorbar(orientation=\"horizontal\",label=\"m\")\n",
    "CoastalCurrents.Plotting.plotmap(bathname)\n",
    "title(\"Sea level anomalies ($(join(Dates.format.(extrema(time),\"yyyy-mm-dd\"),\" - \")))\");"
   ]
  },
  {
   "cell_type": "markdown",
   "id": "0fa4f098",
   "metadata": {},
   "source": [
    "Save selection in the file `altimetry_fname`"
   ]
  },
  {
   "cell_type": "code",
   "execution_count": null,
   "id": "6022e654",
   "metadata": {},
   "outputs": [],
   "source": [
    "Altimetry.save(altimetry_fname,lon,lat,time,sla,slaf,mdt,id)"
   ]
  }
 ],
 "metadata": {
  "jupytext": {
   "cell_metadata_filter": "-all"
  },
  "kernelspec": {
   "display_name": "Julia 1.9.2",
   "language": "julia",
   "name": "julia-1.9"
  }
 },
 "nbformat": 4,
 "nbformat_minor": 5
}
