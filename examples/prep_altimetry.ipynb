{
 "cells": [
  {
   "cell_type": "markdown",
   "id": "21328fdb",
   "metadata": {},
   "source": [
    "\n",
    "# Altimetry data preparation\n",
    "\n",
    "This notebooks downloads all altimetry CMEMS data for a given\n",
    "product id. The data within a given bounding box is then loaded\n",
    "\n",
    "Load all necessary modules"
   ]
  },
  {
   "cell_type": "code",
   "execution_count": null,
   "id": "bfc44b61",
   "metadata": {},
   "outputs": [],
   "source": [
    "using CoastalCurrents\n",
    "using CoastalCurrents: Altimetry\n",
    "using ProgressMeter\n",
    "using Test\n",
    "using PyPlot\n",
    "using GeoDatasets\n",
    "using DIVAnd\n",
    "using Dates"
   ]
  },
  {
   "cell_type": "markdown",
   "id": "79fe6ffa",
   "metadata": {},
   "source": [
    "Define common parameters, among others\n",
    "the bounding box, the CMEMS product ID\n",
    "CMEMS username, CMEMS password, ..."
   ]
  },
  {
   "cell_type": "code",
   "execution_count": null,
   "id": "deb1b16e",
   "metadata": {},
   "outputs": [],
   "source": [
    "include(\"common.jl\")"
   ]
  },
  {
   "cell_type": "markdown",
   "id": "4f35af52",
   "metadata": {},
   "source": [
    "The base URL"
   ]
  },
  {
   "cell_type": "code",
   "execution_count": null,
   "id": "99db23d6",
   "metadata": {},
   "outputs": [],
   "source": [
    "url = \"ftp://my.cmems-du.eu/Core/\" * product_id"
   ]
  },
  {
   "cell_type": "markdown",
   "id": "26164de1",
   "metadata": {},
   "source": [
    "Recursive download of all files under url\n",
    "unless they are already present"
   ]
  },
  {
   "cell_type": "code",
   "execution_count": null,
   "id": "59f77bca",
   "metadata": {},
   "outputs": [],
   "source": [
    "fnames = Altimetry.download(url,basedir,username,password);"
   ]
  },
  {
   "cell_type": "markdown",
   "id": "4edeaa00",
   "metadata": {},
   "source": [
    "As a test consider only the first 100 tracks"
   ]
  },
  {
   "cell_type": "markdown",
   "id": "282bc766",
   "metadata": {},
   "source": [
    "sel = 1:100\n",
    "fnames = fnames[sel]"
   ]
  },
  {
   "cell_type": "markdown",
   "id": "2a4e6dcf",
   "metadata": {},
   "source": [
    "Load the data in all files with the bounding box defined by `lonr` and `latr`"
   ]
  },
  {
   "cell_type": "code",
   "execution_count": null,
   "id": "35849049",
   "metadata": {},
   "outputs": [],
   "source": [
    "sla,slaf,mdt,lon,lat,time,id = Altimetry.load(fnames,lonr,latr,Altimetry.mission_ids);"
   ]
  },
  {
   "cell_type": "markdown",
   "id": "c9a9553e",
   "metadata": {},
   "source": [
    "Plot the first 30 tracks"
   ]
  },
  {
   "cell_type": "code",
   "execution_count": null,
   "id": "78a21017",
   "metadata": {},
   "outputs": [],
   "source": [
    "ntracks = 30\n",
    "figure()\n",
    "for id0 in unique(id)[1:ntracks]\n",
    "    i = id0 .== id\n",
    "    scatter(lon[i],lat[i],10,sla[i])\n",
    "end\n",
    "colorbar(orientation=\"horizontal\",label=\"m\")\n",
    "CoastalCurrents.Plotting.plotmap(bathname)\n",
    "title(\"Sea level anomalies ($(join(Dates.format.(extrema(time),\"yyyy-mm-dd\"),\" - \")))\");"
   ]
  },
  {
   "cell_type": "markdown",
   "id": "10ff11a8",
   "metadata": {},
   "source": [
    "Save selection in the file `altimetry_fname`"
   ]
  },
  {
   "cell_type": "code",
   "execution_count": null,
   "id": "b644e7b2",
   "metadata": {},
   "outputs": [],
   "source": [
    "Altimetry.save(altimetry_fname,lon,lat,time,sla,slaf,mdt,id)"
   ]
  }
 ],
 "metadata": {
  "jupytext": {
   "cell_metadata_filter": "-all"
  },
  "kernelspec": {
   "display_name": "Julia 1.9.2",
   "language": "julia",
   "name": "julia-1.9"
  }
 },
 "nbformat": 4,
 "nbformat_minor": 5
}
