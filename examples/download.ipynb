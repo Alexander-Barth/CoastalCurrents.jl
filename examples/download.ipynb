{
 "cells": [
  {
   "cell_type": "markdown",
   "id": "22f15323",
   "metadata": {},
   "source": [
    "# Download drifter data"
   ]
  },
  {
   "cell_type": "code",
   "execution_count": null,
   "id": "1a68c301",
   "metadata": {},
   "outputs": [],
   "source": [
    "using PhysOcean, Dates, NCDatasets, JLD2\n",
    "using PhysOcean\n",
    "using CoastalCurrents\n",
    "using DIVAnd_HFRadar\n",
    "using OceanPlot\n",
    "using DIVAnd"
   ]
  },
  {
   "cell_type": "code",
   "execution_count": null,
   "id": "36dac294",
   "metadata": {
    "lines_to_next_cell": 2
   },
   "outputs": [],
   "source": [
    "include(\"common.jl\")"
   ]
  },
  {
   "cell_type": "code",
   "execution_count": null,
   "id": "57104d5e",
   "metadata": {},
   "outputs": [],
   "source": [
    "dlon = dlat = 0.5\n",
    "lonr = -12:dlon:22.\n",
    "latr = 30:dlat:55.5"
   ]
  },
  {
   "cell_type": "code",
   "execution_count": null,
   "id": "c1d06cf0",
   "metadata": {},
   "outputs": [],
   "source": [
    "dlon = dlat = 0.25\n",
    "lonr = -8:dlon:15.\n",
    "latr = 32:dlat:45"
   ]
  },
  {
   "cell_type": "code",
   "execution_count": null,
   "id": "526480a0",
   "metadata": {},
   "outputs": [],
   "source": [
    "timerange = [DateTime(2010,5,1),DateTime(2020,1,1)]"
   ]
  },
  {
   "cell_type": "code",
   "execution_count": null,
   "id": "3188867f",
   "metadata": {},
   "outputs": [],
   "source": [
    "#lonr = [7.6, 12.2]\n",
    "#latr = [42, 44.5]\n",
    "timerange = [DateTime(2020,1,1),DateTime(2020,12,31)]\n",
    "param = \"NSCT\""
   ]
  },
  {
   "cell_type": "code",
   "execution_count": null,
   "id": "926151fd",
   "metadata": {},
   "outputs": [],
   "source": [
    "indexURLs = [\"ftp://my.cmems-du.eu/Core/INSITU_GLO_PHY_UV_DISCRETE_MY_013_044/cmems_obs-ins_glo_phy-cur_my_drifter_PT6H/index_history.txt\"]"
   ]
  },
  {
   "cell_type": "code",
   "execution_count": null,
   "id": "37c0a161",
   "metadata": {},
   "outputs": [],
   "source": [
    "datadir = expanduser(\"~/Data/Blue-Cloud-2026/drifter\")\n",
    "mkpath(datadir)\n",
    "basedir = datadir"
   ]
  },
  {
   "cell_type": "code",
   "execution_count": null,
   "id": "3bdc4910",
   "metadata": {},
   "outputs": [],
   "source": []
  },
  {
   "cell_type": "markdown",
   "id": "0969331a",
   "metadata": {},
   "source": [
    "files = CMEMS.download(lonr,latr,timerange,param,username,password,basedir; indexURLs = indexURLs)"
   ]
  },
  {
   "cell_type": "code",
   "execution_count": null,
   "id": "94384857",
   "metadata": {},
   "outputs": [],
   "source": [
    "files = String[]\n",
    "for (root, dirs, files2) in walkdir(basedir)\n",
    "    for file in files2\n",
    "        push!(files,joinpath(root, file)) # path to files\n",
    "    end\n",
    "end"
   ]
  },
  {
   "cell_type": "code",
   "execution_count": null,
   "id": "2e7beb7c",
   "metadata": {},
   "outputs": [],
   "source": [
    "fname = files[1]"
   ]
  },
  {
   "cell_type": "code",
   "execution_count": null,
   "id": "725dc50b",
   "metadata": {},
   "outputs": [],
   "source": [
    "ds = NCDataset(joinpath(basedir,fname))"
   ]
  },
  {
   "cell_type": "code",
   "execution_count": null,
   "id": "8f58782e",
   "metadata": {
    "lines_to_next_cell": 2
   },
   "outputs": [],
   "source": []
  },
  {
   "cell_type": "code",
   "execution_count": null,
   "id": "be74734d",
   "metadata": {},
   "outputs": [],
   "source": [
    "lon,lat,z,time,u,v = CoastalCurrents.loaddata(files);"
   ]
  },
  {
   "cell_type": "code",
   "execution_count": null,
   "id": "e30fa67a",
   "metadata": {},
   "outputs": [],
   "source": [
    "speed = @. sqrt(u^2 + v^2)"
   ]
  },
  {
   "cell_type": "code",
   "execution_count": null,
   "id": "acface13",
   "metadata": {},
   "outputs": [],
   "source": [
    "good = isfinite.(u) .&& isfinite.(time) .&& isfinite.(lon) .&& (lonr[1] .<= lon .<= lonr[end]) .&& (latr[1] .<= lat .<= latr[end]) .&& speed .< 0.5"
   ]
  },
  {
   "cell_type": "code",
   "execution_count": null,
   "id": "e08bd9e1",
   "metadata": {},
   "outputs": [],
   "source": [
    "(lon,lat,z,time,u,v) = map(d -> d[good],(lon,lat,z,time,u,v))"
   ]
  },
  {
   "cell_type": "code",
   "execution_count": null,
   "id": "6c86f346",
   "metadata": {},
   "outputs": [],
   "source": []
  },
  {
   "cell_type": "code",
   "execution_count": null,
   "id": "29244714",
   "metadata": {},
   "outputs": [],
   "source": []
  },
  {
   "cell_type": "markdown",
   "id": "773a481f",
   "metadata": {
    "lines_to_next_cell": 2
   },
   "source": [
    "@show length(lon)\n",
    "using PyPlot\n",
    "quiver(lon,lat,u,v)\n",
    "rg(z)"
   ]
  },
  {
   "cell_type": "code",
   "execution_count": null,
   "id": "ac28539c",
   "metadata": {},
   "outputs": [],
   "source": [
    "bathname = expanduser(\"~/Data/DivaData/Global/gebco_30sec_4.nc\")\n",
    "bathisglobal = true"
   ]
  },
  {
   "cell_type": "code",
   "execution_count": null,
   "id": "629dca29",
   "metadata": {},
   "outputs": [],
   "source": [
    "mask,(pm,pn),(xi,yi) = DIVAnd.domain(bathname,bathisglobal,lonr,latr)\n",
    "hx, hy, h = DIVAnd.load_bath(bathname, bathisglobal, lonr, latr)"
   ]
  },
  {
   "cell_type": "code",
   "execution_count": null,
   "id": "8cb6dae0",
   "metadata": {
    "lines_to_next_cell": 2
   },
   "outputs": [],
   "source": [
    "label = DIVAnd.floodfill(mask)\n",
    "mask = label .== 1"
   ]
  },
  {
   "cell_type": "markdown",
   "id": "7dfb9411",
   "metadata": {},
   "source": [
    "pcolormesh(xi,yi,mask)"
   ]
  },
  {
   "cell_type": "code",
   "execution_count": null,
   "id": "7a4ab9c6",
   "metadata": {},
   "outputs": [],
   "source": [
    "len = 50e3"
   ]
  },
  {
   "cell_type": "code",
   "execution_count": null,
   "id": "6634452e",
   "metadata": {},
   "outputs": [],
   "source": [
    "robs = vcat(u,v)\n",
    "robs = Float64.(nomissing(robs,NaN))\n",
    "directionobs = vcat(fill(90,size(u)), fill(0,size(v)))\n",
    "epsilon2 = 0.1\n",
    "residual = zeros(size(robs))\n",
    "g = 9.81;\n",
    "g = 0;\n",
    "x = [lon; lon]\n",
    "y = [lat; lat]\n",
    "eps2_boundary_constraint = -1\n",
    "eps2_div_constraint = -1\n",
    "#eps2_boundary_constraint = 1e-9\n",
    "eps2_div_constraint = 1e+1\n",
    "#figure()\n",
    "uri,vri,ηi = DIVAndrun_HFRadar(\n",
    "    mask,h,(pm,pn),(xi,yi),(x,y),robs,directionobs,len,epsilon2;\n",
    "    eps2_boundary_constraint = eps2_boundary_constraint,\n",
    "    eps2_div_constraint = eps2_div_constraint,\n",
    "    # eps2_Coriolis_constraint = -1,\n",
    "    # f = 0.001,\n",
    "    # residual = residual,\n",
    "    # g = g,\n",
    "    # ratio = 100,\n",
    "    # lenη = (000.0, 000.0, 24 * 60 * 60. * 10),\n",
    "    # maxit = 100000,\n",
    "    # tol = 1e-6,\n",
    ")\n",
    "speedi = @. sqrt(uri^2 + vri^2)\n",
    "clf(); quiver(xi,yi,uri,vri,speedi)\n",
    "xlim(-7,15)\n",
    "ylim(35.,44.5)\n",
    "#colorbar(orientation=\"vertical\")\n",
    "colorbar(orientation=\"horizontal\")\n",
    "title(\"average near-surface currents (2020), m/s\")\n",
    "OceanPlot.set_aspect_ratio()\n",
    "#OceanPlot.plot_coastline()\n",
    "OceanPlot.plotmap()\n",
    "savefig(expanduser(\"~/Figures/bluecloud-drifter-vel-div-$(eps2_div_constraint).png\"))"
   ]
  }
 ],
 "metadata": {
  "jupytext": {
   "cell_metadata_filter": "-all"
  },
  "kernelspec": {
   "display_name": "Julia 1.9.2",
   "language": "julia",
   "name": "julia-1.9"
  }
 },
 "nbformat": 4,
 "nbformat_minor": 5
}
