{
 "cells": [
  {
   "cell_type": "markdown",
   "id": "884c4fa4",
   "metadata": {},
   "source": [
    "# Download drifter data"
   ]
  },
  {
   "cell_type": "code",
   "execution_count": null,
   "id": "71e876da",
   "metadata": {},
   "outputs": [],
   "source": [
    "using PhysOcean, Dates, NCDatasets, JLD2\n",
    "using PhysOcean\n",
    "using CoastalCurrents\n",
    "using DIVAnd_HFRadar\n",
    "using OceanPlot\n",
    "using DIVAnd"
   ]
  },
  {
   "cell_type": "code",
   "execution_count": null,
   "id": "dc7fc03f",
   "metadata": {
    "lines_to_next_cell": 2
   },
   "outputs": [],
   "source": [
    "include(\"common.jl\")"
   ]
  },
  {
   "cell_type": "code",
   "execution_count": null,
   "id": "ef1d9912",
   "metadata": {},
   "outputs": [],
   "source": [
    "dlon = dlat = 0.5\n",
    "lonr = -12:dlon:22.\n",
    "latr = 30:dlat:55.5"
   ]
  },
  {
   "cell_type": "code",
   "execution_count": null,
   "id": "39946cc9",
   "metadata": {},
   "outputs": [],
   "source": [
    "dlon = dlat = 0.25\n",
    "lonr = -8:dlon:15.\n",
    "latr = 32:dlat:45"
   ]
  },
  {
   "cell_type": "code",
   "execution_count": null,
   "id": "63f5be8b",
   "metadata": {},
   "outputs": [],
   "source": [
    "timerange = [DateTime(2010,5,1),DateTime(2020,1,1)]"
   ]
  },
  {
   "cell_type": "code",
   "execution_count": null,
   "id": "175f8b96",
   "metadata": {},
   "outputs": [],
   "source": [
    "#lonr = [7.6, 12.2]\n",
    "#latr = [42, 44.5]\n",
    "timerange = [DateTime(2020,1,1),DateTime(2020,12,31)]\n",
    "param = \"NSCT\""
   ]
  },
  {
   "cell_type": "code",
   "execution_count": null,
   "id": "3fd48a4f",
   "metadata": {},
   "outputs": [],
   "source": [
    "indexURLs = [\"ftp://my.cmems-du.eu/Core/INSITU_GLO_PHY_UV_DISCRETE_MY_013_044/cmems_obs-ins_glo_phy-cur_my_drifter_PT6H/index_history.txt\"]"
   ]
  },
  {
   "cell_type": "code",
   "execution_count": null,
   "id": "ceb24a1c",
   "metadata": {},
   "outputs": [],
   "source": [
    "datadir = expanduser(\"~/Data/Blue-Cloud-2026/drifter\")\n",
    "mkpath(datadir)\n",
    "basedir = datadir"
   ]
  },
  {
   "cell_type": "code",
   "execution_count": null,
   "id": "2eeacc96",
   "metadata": {},
   "outputs": [],
   "source": []
  },
  {
   "cell_type": "markdown",
   "id": "613cf6c7",
   "metadata": {},
   "source": [
    "files = CMEMS.download(lonr,latr,timerange,param,username,password,basedir; indexURLs = indexURLs)"
   ]
  },
  {
   "cell_type": "code",
   "execution_count": null,
   "id": "23798667",
   "metadata": {},
   "outputs": [],
   "source": [
    "files = String[]\n",
    "for (root, dirs, files2) in walkdir(basedir)\n",
    "    for file in files2\n",
    "        push!(files,joinpath(root, file)) # path to files\n",
    "    end\n",
    "end"
   ]
  },
  {
   "cell_type": "code",
   "execution_count": null,
   "id": "62939c04",
   "metadata": {},
   "outputs": [],
   "source": [
    "fname = files[1]"
   ]
  },
  {
   "cell_type": "code",
   "execution_count": null,
   "id": "c908d900",
   "metadata": {},
   "outputs": [],
   "source": [
    "ds = NCDataset(joinpath(basedir,fname))"
   ]
  },
  {
   "cell_type": "code",
   "execution_count": null,
   "id": "f0b14477",
   "metadata": {
    "lines_to_next_cell": 2
   },
   "outputs": [],
   "source": []
  },
  {
   "cell_type": "code",
   "execution_count": null,
   "id": "756c20fe",
   "metadata": {},
   "outputs": [],
   "source": [
    "lon,lat,z,time,u,v = CoastalCurrents.loaddata(files);"
   ]
  },
  {
   "cell_type": "code",
   "execution_count": null,
   "id": "799abe3e",
   "metadata": {},
   "outputs": [],
   "source": [
    "speed = @. sqrt(u^2 + v^2)"
   ]
  },
  {
   "cell_type": "code",
   "execution_count": null,
   "id": "62e94714",
   "metadata": {},
   "outputs": [],
   "source": [
    "good = isfinite.(u) .&& isfinite.(time) .&& isfinite.(lon) .&& (lonr[1] .<= lon .<= lonr[end]) .&& (latr[1] .<= lat .<= latr[end]) .&& speed .< 0.5"
   ]
  },
  {
   "cell_type": "code",
   "execution_count": null,
   "id": "6d77df5e",
   "metadata": {},
   "outputs": [],
   "source": [
    "(lon,lat,z,time,u,v) = map(d -> d[good],(lon,lat,z,time,u,v))"
   ]
  },
  {
   "cell_type": "code",
   "execution_count": null,
   "id": "baee6745",
   "metadata": {},
   "outputs": [],
   "source": []
  },
  {
   "cell_type": "code",
   "execution_count": null,
   "id": "756d2c50",
   "metadata": {},
   "outputs": [],
   "source": []
  },
  {
   "cell_type": "markdown",
   "id": "0e65b4f8",
   "metadata": {
    "lines_to_next_cell": 2
   },
   "source": [
    "@show length(lon)\n",
    "using PyPlot\n",
    "quiver(lon,lat,u,v)\n",
    "rg(z)"
   ]
  },
  {
   "cell_type": "code",
   "execution_count": null,
   "id": "d25fd2b1",
   "metadata": {},
   "outputs": [],
   "source": [
    "bathname = expanduser(\"~/Data/DivaData/Global/gebco_30sec_4.nc\")\n",
    "bathisglobal = true"
   ]
  },
  {
   "cell_type": "code",
   "execution_count": null,
   "id": "a0b8723b",
   "metadata": {},
   "outputs": [],
   "source": [
    "mask,(pm,pn),(xi,yi) = DIVAnd.domain(bathname,bathisglobal,lonr,latr)\n",
    "hx, hy, h = DIVAnd.load_bath(bathname, bathisglobal, lonr, latr)"
   ]
  },
  {
   "cell_type": "code",
   "execution_count": null,
   "id": "12fb146d",
   "metadata": {
    "lines_to_next_cell": 2
   },
   "outputs": [],
   "source": [
    "label = DIVAnd.floodfill(mask)\n",
    "mask = label .== 1"
   ]
  },
  {
   "cell_type": "markdown",
   "id": "aff60407",
   "metadata": {},
   "source": [
    "pcolormesh(xi,yi,mask)"
   ]
  },
  {
   "cell_type": "code",
   "execution_count": null,
   "id": "962bd9c1",
   "metadata": {},
   "outputs": [],
   "source": [
    "len = 50e3"
   ]
  },
  {
   "cell_type": "code",
   "execution_count": null,
   "id": "49e09266",
   "metadata": {},
   "outputs": [],
   "source": [
    "robs = vcat(u,v)\n",
    "robs = Float64.(nomissing(robs,NaN))\n",
    "directionobs = vcat(fill(90,size(u)), fill(0,size(v)))\n",
    "epsilon2 = 0.1\n",
    "residual = zeros(size(robs))\n",
    "g = 9.81;\n",
    "g = 0;\n",
    "x = [lon; lon]\n",
    "y = [lat; lat]\n",
    "eps2_boundary_constraint = -1\n",
    "eps2_div_constraint = -1\n",
    "#eps2_boundary_constraint = 1e-9\n",
    "eps2_div_constraint = 1e+1\n",
    "#figure()\n",
    "uri,vri,ηi = DIVAndrun_HFRadar(\n",
    "    mask,h,(pm,pn),(xi,yi),(x,y),robs,directionobs,len,epsilon2;\n",
    "    eps2_boundary_constraint = eps2_boundary_constraint,\n",
    "    eps2_div_constraint = eps2_div_constraint,\n",
    "    # eps2_Coriolis_constraint = -1,\n",
    "    # f = 0.001,\n",
    "    # residual = residual,\n",
    "    # g = g,\n",
    "    # ratio = 100,\n",
    "    # lenη = (000.0, 000.0, 24 * 60 * 60. * 10),\n",
    "    # maxit = 100000,\n",
    "    # tol = 1e-6,\n",
    ")\n",
    "speedi = @. sqrt(uri^2 + vri^2)\n",
    "clf(); quiver(xi,yi,uri,vri,speedi)\n",
    "xlim(-7,15)\n",
    "ylim(35.,44.5)\n",
    "#colorbar(orientation=\"vertical\")\n",
    "colorbar(orientation=\"horizontal\")\n",
    "title(\"average near-surface currents (2020), m/s\")\n",
    "OceanPlot.set_aspect_ratio()\n",
    "#OceanPlot.plot_coastline()\n",
    "OceanPlot.plotmap()\n",
    "savefig(expanduser(\"~/Figures/bluecloud-drifter-vel-div-$(eps2_div_constraint).png\"))"
   ]
  }
 ],
 "metadata": {
  "jupytext": {
   "cell_metadata_filter": "-all"
  },
  "kernelspec": {
   "display_name": "Julia 1.9.2",
   "language": "julia",
   "name": "julia-1.9"
  }
 },
 "nbformat": 4,
 "nbformat_minor": 5
}
