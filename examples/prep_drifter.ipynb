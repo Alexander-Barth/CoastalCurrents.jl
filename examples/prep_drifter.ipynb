{
 "cells": [
  {
   "cell_type": "markdown",
   "id": "2f5b9f20-01f1-4b34-8378-c066b481b8f7",
   "metadata": {},
   "source": [
    "# Download drifter data"
   ]
  },
  {
   "cell_type": "code",
   "execution_count": 6,
   "id": "6760e8d2-8093-4766-8513-57fcf93f60a0",
   "metadata": {},
   "outputs": [],
   "source": [
    "using Dates\n",
    "using NCDatasets\n",
    "using PhysOcean\n",
    "using CoastalCurrents\n",
    "using DIVAnd_HFRadar\n",
    "using OceanPlot\n",
    "using DIVAnd\n",
    "using PyPlot"
   ]
  },
  {
   "cell_type": "code",
   "execution_count": 7,
   "id": "b973a81b-c9d9-4557-82ab-7f9d75ddccaa",
   "metadata": {
    "lines_to_next_cell": 2
   },
   "outputs": [],
   "source": [
    "include(\"common.jl\")"
   ]
  },
  {
   "cell_type": "code",
   "execution_count": 8,
   "id": "73e65c8b-94a2-40ec-9864-f0ae9c0646e1",
   "metadata": {},
   "outputs": [
    {
     "data": {
      "text/plain": [
       "-7.0:0.25:37.0"
      ]
     },
     "execution_count": 8,
     "metadata": {},
     "output_type": "execute_result"
    }
   ],
   "source": [
    "lonr"
   ]
  },
  {
   "cell_type": "code",
   "execution_count": 9,
   "id": "4ea20ebc-a31b-4b8f-82f5-d656d55a379b",
   "metadata": {},
   "outputs": [
    {
     "data": {
      "text/plain": [
       "30.0:0.25:46.0"
      ]
     },
     "execution_count": 9,
     "metadata": {},
     "output_type": "execute_result"
    }
   ],
   "source": [
    "latr"
   ]
  },
  {
   "cell_type": "code",
   "execution_count": 10,
   "id": "ac5423cc-60af-4786-a699-8740db96a9ed",
   "metadata": {},
   "outputs": [
    {
     "data": {
      "text/plain": [
       "\"NSCT\""
      ]
     },
     "execution_count": 10,
     "metadata": {},
     "output_type": "execute_result"
    }
   ],
   "source": [
    "timerange = [DateTime(2020,1,1),DateTime(2020,12,31)]\n",
    "param = \"NSCT\""
   ]
  },
  {
   "cell_type": "code",
   "execution_count": 11,
   "id": "196967c6-6b1f-4645-a8c4-2e22db586de1",
   "metadata": {},
   "outputs": [
    {
     "data": {
      "text/plain": [
       "1-element Vector{String}:\n",
       " \"ftp://my.cmems-du.eu/Core/INSIT\" ⋯ 61 bytes ⋯ \"_drifter_PT6H/index_history.txt\""
      ]
     },
     "execution_count": 11,
     "metadata": {},
     "output_type": "execute_result"
    }
   ],
   "source": [
    "indexURLs = [\"ftp://my.cmems-du.eu/Core/INSITU_GLO_PHY_UV_DISCRETE_MY_013_044/cmems_obs-ins_glo_phy-cur_my_drifter_PT6H/index_history.txt\"]"
   ]
  },
  {
   "cell_type": "code",
   "execution_count": null,
   "id": "89f10bf0-4772-40dc-826c-c297f10e8b00",
   "metadata": {},
   "outputs": [],
   "source": []
  },
  {
   "cell_type": "markdown",
   "id": "10c95c49-7918-4f3c-ab44-9f09f71af5ae",
   "metadata": {},
   "source": [
    "files = CMEMS.download(lonr,latr,timerange,param,username,password,drifter_dir; indexURLs = indexURLs)"
   ]
  }
 ],
 "metadata": {
  "kernelspec": {
   "display_name": "Julia 1.9.0",
   "language": "julia",
   "name": "julia-1.9"
  },
  "language_info": {
   "file_extension": ".jl",
   "mimetype": "application/julia",
   "name": "julia",
   "version": "1.9.0"
  }
 },
 "nbformat": 4,
 "nbformat_minor": 5
}
