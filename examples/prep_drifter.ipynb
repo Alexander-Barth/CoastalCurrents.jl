{
 "cells": [
  {
   "cell_type": "markdown",
   "id": "2f5b9f20-01f1-4b34-8378-c066b481b8f7",
   "metadata": {},
   "source": [
    "# Download drifter data"
   ]
  },
  {
   "cell_type": "code",
   "execution_count": 1,
   "id": "6760e8d2-8093-4766-8513-57fcf93f60a0",
   "metadata": {
    "tags": []
   },
   "outputs": [],
   "source": [
    "using Dates\n",
    "using NCDatasets\n",
    "using PhysOcean\n",
    "using CoastalCurrents\n",
    "using DIVAnd_HFRadar\n",
    "using DIVAnd\n",
    "using PyPlot"
   ]
  },
  {
   "cell_type": "code",
   "execution_count": 2,
   "id": "b973a81b-c9d9-4557-82ab-7f9d75ddccaa",
   "metadata": {
    "lines_to_next_cell": 2,
    "tags": []
   },
   "outputs": [],
   "source": [
    "include(\"common.jl\")"
   ]
  },
  {
   "cell_type": "markdown",
   "id": "f43a0550-64fc-44f8-8a1c-f4cd7fcbe8ad",
   "metadata": {},
   "source": [
    "Spatial domain defined in `common.jl`, longitude (`lonr`) and latitude (`latr`) (min:step:max)"
   ]
  },
  {
   "cell_type": "code",
   "execution_count": 3,
   "id": "73e65c8b-94a2-40ec-9864-f0ae9c0646e1",
   "metadata": {
    "tags": []
   },
   "outputs": [
    {
     "data": {
      "text/plain": [
       "-7.0:0.25:37.0"
      ]
     },
     "execution_count": 3,
     "metadata": {},
     "output_type": "execute_result"
    }
   ],
   "source": [
    "lonr"
   ]
  },
  {
   "cell_type": "code",
   "execution_count": 4,
   "id": "4ea20ebc-a31b-4b8f-82f5-d656d55a379b",
   "metadata": {
    "tags": []
   },
   "outputs": [
    {
     "data": {
      "text/plain": [
       "30.0:0.25:46.0"
      ]
     },
     "execution_count": 4,
     "metadata": {},
     "output_type": "execute_result"
    }
   ],
   "source": [
    "latr"
   ]
  },
  {
   "cell_type": "code",
   "execution_count": 5,
   "id": "ac5423cc-60af-4786-a699-8740db96a9ed",
   "metadata": {
    "tags": []
   },
   "outputs": [
    {
     "data": {
      "text/plain": [
       "\"NSCT\""
      ]
     },
     "execution_count": 5,
     "metadata": {},
     "output_type": "execute_result"
    }
   ],
   "source": [
    "timerange = [DateTime(2020,1,1),DateTime(2020,12,31)]\n",
    "param = \"NSCT\""
   ]
  },
  {
   "cell_type": "code",
   "execution_count": 6,
   "id": "196967c6-6b1f-4645-a8c4-2e22db586de1",
   "metadata": {
    "tags": []
   },
   "outputs": [
    {
     "data": {
      "text/plain": [
       "1-element Vector{String}:\n",
       " \"ftp://my.cmems-du.eu/Core/INSIT\" ⋯ 61 bytes ⋯ \"_drifter_PT6H/index_history.txt\""
      ]
     },
     "execution_count": 6,
     "metadata": {},
     "output_type": "execute_result"
    }
   ],
   "source": [
    "indexURLs = [\"ftp://my.cmems-du.eu/Core/INSITU_GLO_PHY_UV_DISCRETE_MY_013_044/cmems_obs-ins_glo_phy-cur_my_drifter_PT6H/index_history.txt\"]"
   ]
  },
  {
   "cell_type": "code",
   "execution_count": 7,
   "id": "9008d0e6-3819-41a7-8a8a-97edeb85b920",
   "metadata": {
    "tags": []
   },
   "outputs": [
    {
     "name": "stdout",
     "output_type": "stream",
     "text": [
      "Downloading \u001b[32mftp://my.cmems-du.eu/Core/INSITU_GLO_PHY_UV_DISCRETE_MY_013_044/cmems_obs-ins_glo_phy-cur_my_drifter_PT6H/index_history.txt\u001b[39m\n",
      "Downloading \u001b[32mftp://my.cmems-du.eu/Core/INSITU_GLO_PHY_UV_DISCRETE_MY_013_044/cmems_obs-ins_glo_phy-cur_my_drifter_PT6H/history/GL_TS_DC_63472530_2101504.nc\u001b[39m\n",
      "Downloading \u001b[32mftp://my.cmems-du.eu/Core/INSITU_GLO_PHY_UV_DISCRETE_MY_013_044/cmems_obs-ins_glo_phy-cur_my_drifter_PT6H/history/GL_TS_DC_63893840_2101527.nc\u001b[39m\n",
      "Downloading \u001b[32mftp://my.cmems-du.eu/Core/INSITU_GLO_PHY_UV_DISCRETE_MY_013_044/cmems_obs-ins_glo_phy-cur_my_drifter_PT6H/history/GL_TS_DC_63123200_5102534.nc\u001b[39m\n",
      "Downloading \u001b[32mftp://my.cmems-du.eu/Core/INSITU_GLO_PHY_UV_DISCRETE_MY_013_044/cmems_obs-ins_glo_phy-cur_my_drifter_PT6H/history/GL_TS_DC_63891650_2101510.nc\u001b[39m\n",
      "Downloading \u001b[32mftp://my.cmems-du.eu/Core/INSITU_GLO_PHY_UV_DISCRETE_MY_013_044/cmems_obs-ins_glo_phy-cur_my_drifter_PT6H/history/GL_TS_DC_63892700_2101518.nc\u001b[39m\n",
      "Downloading \u001b[32mftp://my.cmems-du.eu/Core/INSITU_GLO_PHY_UV_DISCRETE_MY_013_044/cmems_obs-ins_glo_phy-cur_my_drifter_PT6H/history/GL_TS_DC_63892750_2101520.nc\u001b[39m\n",
      "Downloading \u001b[32mftp://my.cmems-du.eu/Core/INSITU_GLO_PHY_UV_DISCRETE_MY_013_044/cmems_obs-ins_glo_phy-cur_my_drifter_PT6H/history/GL_TS_DC_63892830_2101521.nc\u001b[39m\n",
      "Downloading \u001b[32mftp://my.cmems-du.eu/Core/INSITU_GLO_PHY_UV_DISCRETE_MY_013_044/cmems_obs-ins_glo_phy-cur_my_drifter_PT6H/history/GL_TS_DC_63943320_2201537.nc\u001b[39m\n",
      "Downloading \u001b[32mftp://my.cmems-du.eu/Core/INSITU_GLO_PHY_UV_DISCRETE_MY_013_044/cmems_obs-ins_glo_phy-cur_my_drifter_PT6H/history/GL_TS_DC_63993420_5201555.nc\u001b[39m\n",
      "Downloading \u001b[32mftp://my.cmems-du.eu/Core/INSITU_GLO_PHY_UV_DISCRETE_MY_013_044/cmems_obs-ins_glo_phy-cur_my_drifter_PT6H/history/GL_TS_DC_64500600_6203601.nc\u001b[39m\n",
      "Downloading \u001b[32mftp://my.cmems-du.eu/Core/INSITU_GLO_PHY_UV_DISCRETE_MY_013_044/cmems_obs-ins_glo_phy-cur_my_drifter_PT6H/history/GL_TS_DC_64735130_2101572.nc\u001b[39m\n",
      "Downloading \u001b[32mftp://my.cmems-du.eu/Core/INSITU_GLO_PHY_UV_DISCRETE_MY_013_044/cmems_obs-ins_glo_phy-cur_my_drifter_PT6H/history/GL_TS_DC_64829360_5102581.nc\u001b[39m\n",
      "Downloading \u001b[32mftp://my.cmems-du.eu/Core/INSITU_GLO_PHY_UV_DISCRETE_MY_013_044/cmems_obs-ins_glo_phy-cur_my_drifter_PT6H/history/GL_TS_DC_65708620_2101593.nc\u001b[39m\n",
      "Downloading \u001b[32mftp://my.cmems-du.eu/Core/INSITU_GLO_PHY_UV_DISCRETE_MY_013_044/cmems_obs-ins_glo_phy-cur_my_drifter_PT6H/history/GL_TS_DC_65708450_2101591.nc\u001b[39m\n",
      "Downloading \u001b[32mftp://my.cmems-du.eu/Core/INSITU_GLO_PHY_UV_DISCRETE_MY_013_044/cmems_obs-ins_glo_phy-cur_my_drifter_PT6H/history/GL_TS_DC_65339580_2101606.nc\u001b[39m\n",
      "Downloading \u001b[32mftp://my.cmems-du.eu/Core/INSITU_GLO_PHY_UV_DISCRETE_MY_013_044/cmems_obs-ins_glo_phy-cur_my_drifter_PT6H/history/GL_TS_DC_65339650_2101608.nc\u001b[39m\n",
      "Downloading \u001b[32mftp://my.cmems-du.eu/Core/INSITU_GLO_PHY_UV_DISCRETE_MY_013_044/cmems_obs-ins_glo_phy-cur_my_drifter_PT6H/history/GL_TS_DC_65339940_2101609.nc\u001b[39m\n",
      "Downloading \u001b[32mftp://my.cmems-du.eu/Core/INSITU_GLO_PHY_UV_DISCRETE_MY_013_044/cmems_obs-ins_glo_phy-cur_my_drifter_PT6H/history/GL_TS_DC_65385690_2101603.nc\u001b[39m\n",
      "Downloading \u001b[32mftp://my.cmems-du.eu/Core/INSITU_GLO_PHY_UV_DISCRETE_MY_013_044/cmems_obs-ins_glo_phy-cur_my_drifter_PT6H/history/GL_TS_DC_65433170_2101612.nc\u001b[39m\n",
      "Downloading \u001b[32mftp://my.cmems-du.eu/Core/INSITU_GLO_PHY_UV_DISCRETE_MY_013_044/cmems_obs-ins_glo_phy-cur_my_drifter_PT6H/history/GL_TS_DC_65433190_2101613.nc\u001b[39m\n",
      "Downloading \u001b[32mftp://my.cmems-du.eu/Core/INSITU_GLO_PHY_UV_DISCRETE_MY_013_044/cmems_obs-ins_glo_phy-cur_my_drifter_PT6H/history/GL_TS_DC_65480860_2101604.nc\u001b[39m\n",
      "Downloading \u001b[32mftp://my.cmems-du.eu/Core/INSITU_GLO_PHY_UV_DISCRETE_MY_013_044/cmems_obs-ins_glo_phy-cur_my_drifter_PT6H/history/GL_TS_DC_65606540_1401668.nc\u001b[39m\n",
      "Downloading \u001b[32mftp://my.cmems-du.eu/Core/INSITU_GLO_PHY_UV_DISCRETE_MY_013_044/cmems_obs-ins_glo_phy-cur_my_drifter_PT6H/history/GL_TS_DC_65607910_1401673.nc\u001b[39m\n",
      "Downloading \u001b[32mftp://my.cmems-du.eu/Core/INSITU_GLO_PHY_UV_DISCRETE_MY_013_044/cmems_obs-ins_glo_phy-cur_my_drifter_PT6H/history/GL_TS_DC_66612850_4601669.nc\u001b[39m\n",
      "Downloading \u001b[32mftp://my.cmems-du.eu/Core/INSITU_GLO_PHY_UV_DISCRETE_MY_013_044/cmems_obs-ins_glo_phy-cur_my_drifter_PT6H/history/GL_TS_DC_66612950_2101595.nc\u001b[39m\n",
      "Downloading \u001b[32mftp://my.cmems-du.eu/Core/INSITU_GLO_PHY_UV_DISCRETE_MY_013_044/cmems_obs-ins_glo_phy-cur_my_drifter_PT6H/history/GL_TS_DC_66614860_2101600.nc\u001b[39m\n",
      "Downloading \u001b[32mftp://my.cmems-du.eu/Core/INSITU_GLO_PHY_UV_DISCRETE_MY_013_044/cmems_obs-ins_glo_phy-cur_my_drifter_PT6H/history/GL_TS_DC_65701190_5102591.nc\u001b[39m\n",
      "Downloading \u001b[32mftp://my.cmems-du.eu/Core/INSITU_GLO_PHY_UV_DISCRETE_MY_013_044/cmems_obs-ins_glo_phy-cur_my_drifter_PT6H/history/GL_TS_DC_65701850_5102599.nc\u001b[39m\n",
      "Downloading \u001b[32mftp://my.cmems-du.eu/Core/INSITU_GLO_PHY_UV_DISCRETE_MY_013_044/cmems_obs-ins_glo_phy-cur_my_drifter_PT6H/history/GL_TS_DC_65701970_5102600.nc\u001b[39m\n",
      "Downloading \u001b[32mftp://my.cmems-du.eu/Core/INSITU_GLO_PHY_UV_DISCRETE_MY_013_044/cmems_obs-ins_glo_phy-cur_my_drifter_PT6H/history/GL_TS_DC_66313140_5102708.nc\u001b[39m\n",
      "Downloading \u001b[32mftp://my.cmems-du.eu/Core/INSITU_GLO_PHY_UV_DISCRETE_MY_013_044/cmems_obs-ins_glo_phy-cur_my_drifter_PT6H/history/GL_TS_DC_66431870_2101618.nc\u001b[39m\n",
      "Downloading \u001b[32mftp://my.cmems-du.eu/Core/INSITU_GLO_PHY_UV_DISCRETE_MY_013_044/cmems_obs-ins_glo_phy-cur_my_drifter_PT6H/history/GL_TS_DC_66431890_2101619.nc\u001b[39m\n",
      "Downloading \u001b[32mftp://my.cmems-du.eu/Core/INSITU_GLO_PHY_UV_DISCRETE_MY_013_044/cmems_obs-ins_glo_phy-cur_my_drifter_PT6H/history/GL_TS_DC_66432020_2101620.nc\u001b[39m\n",
      "Downloading \u001b[32mftp://my.cmems-du.eu/Core/INSITU_GLO_PHY_UV_DISCRETE_MY_013_044/cmems_obs-ins_glo_phy-cur_my_drifter_PT6H/history/GL_TS_DC_66432270_4601679.nc\u001b[39m\n",
      "Downloading \u001b[32mftp://my.cmems-du.eu/Core/INSITU_GLO_PHY_UV_DISCRETE_MY_013_044/cmems_obs-ins_glo_phy-cur_my_drifter_PT6H/history/GL_TS_DC_66431480_2101617.nc\u001b[39m\n",
      "Downloading \u001b[32mftp://my.cmems-du.eu/Core/INSITU_GLO_PHY_UV_DISCRETE_MY_013_044/cmems_obs-ins_glo_phy-cur_my_drifter_PT6H/history/GL_TS_DC_66432150_4601676.nc\u001b[39m\n",
      "Downloading \u001b[32mftp://my.cmems-du.eu/Core/INSITU_GLO_PHY_UV_DISCRETE_MY_013_044/cmems_obs-ins_glo_phy-cur_my_drifter_PT6H/history/GL_TS_DC_66021040_4601686.nc\u001b[39m\n",
      "Downloading \u001b[32mftp://my.cmems-du.eu/Core/INSITU_GLO_PHY_UV_DISCRETE_MY_013_044/cmems_obs-ins_glo_phy-cur_my_drifter_PT6H/history/GL_TS_DC_66335930_2101622.nc\u001b[39m\n",
      "Downloading \u001b[32mftp://my.cmems-du.eu/Core/INSITU_GLO_PHY_UV_DISCRETE_MY_013_044/cmems_obs-ins_glo_phy-cur_my_drifter_PT6H/history/GL_TS_DC_66335990_2101623.nc\u001b[39m\n",
      "Downloading \u001b[32mftp://my.cmems-du.eu/Core/INSITU_GLO_PHY_UV_DISCRETE_MY_013_044/cmems_obs-ins_glo_phy-cur_my_drifter_PT6H/history/GL_TS_DC_66431370_2101615.nc\u001b[39m\n",
      "Downloading \u001b[32mftp://my.cmems-du.eu/Core/INSITU_GLO_PHY_UV_DISCRETE_MY_013_044/cmems_obs-ins_glo_phy-cur_my_drifter_PT6H/history/GL_TS_DC_66021220_4601692.nc\u001b[39m\n",
      "Downloading \u001b[32mftp://my.cmems-du.eu/Core/INSITU_GLO_PHY_UV_DISCRETE_MY_013_044/cmems_obs-ins_glo_phy-cur_my_drifter_PT6H/history/GL_TS_DC_66021230_4601693.nc\u001b[39m\n",
      "Downloading \u001b[32mftp://my.cmems-du.eu/Core/INSITU_GLO_PHY_UV_DISCRETE_MY_013_044/cmems_obs-ins_glo_phy-cur_my_drifter_PT6H/history/GL_TS_DC_66021240_4601694.nc\u001b[39m\n",
      "Downloading \u001b[32mftp://my.cmems-du.eu/Core/INSITU_GLO_PHY_UV_DISCRETE_MY_013_044/cmems_obs-ins_glo_phy-cur_my_drifter_PT6H/history/GL_TS_DC_66021270_4601695.nc\u001b[39m\n",
      "Downloading \u001b[32mftp://my.cmems-du.eu/Core/INSITU_GLO_PHY_UV_DISCRETE_MY_013_044/cmems_obs-ins_glo_phy-cur_my_drifter_PT6H/history/GL_TS_DC_66021280_4601696.nc\u001b[39m\n",
      "Downloading \u001b[32mftp://my.cmems-du.eu/Core/INSITU_GLO_PHY_UV_DISCRETE_MY_013_044/cmems_obs-ins_glo_phy-cur_my_drifter_PT6H/history/GL_TS_DC_66022060_4601697.nc\u001b[39m\n",
      "Downloading \u001b[32mftp://my.cmems-du.eu/Core/INSITU_GLO_PHY_UV_DISCRETE_MY_013_044/cmems_obs-ins_glo_phy-cur_my_drifter_PT6H/history/GL_TS_DC_66026100_4601703.nc\u001b[39m\n",
      "Downloading \u001b[32mftp://my.cmems-du.eu/Core/INSITU_GLO_PHY_UV_DISCRETE_MY_013_044/cmems_obs-ins_glo_phy-cur_my_drifter_PT6H/history/GL_TS_DC_66438020_4401867.nc\u001b[39m\n",
      "Downloading \u001b[32mftp://my.cmems-du.eu/Core/INSITU_GLO_PHY_UV_DISCRETE_MY_013_044/cmems_obs-ins_glo_phy-cur_my_drifter_PT6H/history/GL_TS_DC_66411870_2201587.nc\u001b[39m\n",
      "Downloading \u001b[32mftp://my.cmems-du.eu/Core/INSITU_GLO_PHY_UV_DISCRETE_MY_013_044/cmems_obs-ins_glo_phy-cur_my_drifter_PT6H/history/GL_TS_DC_66818180_5102682.nc\u001b[39m\n",
      "Downloading \u001b[32mftp://my.cmems-du.eu/Core/INSITU_GLO_PHY_UV_DISCRETE_MY_013_044/cmems_obs-ins_glo_phy-cur_my_drifter_PT6H/history/GL_TS_DC_66336960_2101629.nc\u001b[39m\n",
      "Downloading \u001b[32mftp://my.cmems-du.eu/Core/INSITU_GLO_PHY_UV_DISCRETE_MY_013_044/cmems_obs-ins_glo_phy-cur_my_drifter_PT6H/history/GL_TS_DC_67543700_5201668.nc\u001b[39m\n",
      "Downloading \u001b[32mftp://my.cmems-du.eu/Core/INSITU_GLO_PHY_UV_DISCRETE_MY_013_044/cmems_obs-ins_glo_phy-cur_my_drifter_PT6H/history/GL_TS_DC_67543890_5201669.nc\u001b[39m\n",
      "Downloading \u001b[32mftp://my.cmems-du.eu/Core/INSITU_GLO_PHY_UV_DISCRETE_MY_013_044/cmems_obs-ins_glo_phy-cur_my_drifter_PT6H/history/GL_TS_DC_67543900_5201670.nc\u001b[39m\n",
      "Downloading \u001b[32mftp://my.cmems-du.eu/Core/INSITU_GLO_PHY_UV_DISCRETE_MY_013_044/cmems_obs-ins_glo_phy-cur_my_drifter_PT6H/history/GL_TS_DC_67544100_5201671.nc\u001b[39m\n",
      "Downloading \u001b[32mftp://my.cmems-du.eu/Core/INSITU_GLO_PHY_UV_DISCRETE_MY_013_044/cmems_obs-ins_glo_phy-cur_my_drifter_PT6H/history/GL_TS_DC_67544900_5201677.nc\u001b[39m\n",
      "Downloading \u001b[32mftp://my.cmems-du.eu/Core/INSITU_GLO_PHY_UV_DISCRETE_MY_013_044/cmems_obs-ins_glo_phy-cur_my_drifter_PT6H/history/GL_TS_DC_67545080_5201679.nc\u001b[39m\n",
      "Downloading \u001b[32mftp://my.cmems-du.eu/Core/INSITU_GLO_PHY_UV_DISCRETE_MY_013_044/cmems_obs-ins_glo_phy-cur_my_drifter_PT6H/history/GL_TS_DC_67545180_5201681.nc\u001b[39m\n",
      "Downloading \u001b[32mftp://my.cmems-du.eu/Core/INSITU_GLO_PHY_UV_DISCRETE_MY_013_044/cmems_obs-ins_glo_phy-cur_my_drifter_PT6H/history/GL_TS_DC_67546730_5201687.nc\u001b[39m\n",
      "Downloading \u001b[32mftp://my.cmems-du.eu/Core/INSITU_GLO_PHY_UV_DISCRETE_MY_013_044/cmems_obs-ins_glo_phy-cur_my_drifter_PT6H/history/GL_TS_DC_68246680_4601711.nc\u001b[39m\n",
      "Downloading \u001b[32mftp://my.cmems-du.eu/Core/INSITU_GLO_PHY_UV_DISCRETE_MY_013_044/cmems_obs-ins_glo_phy-cur_my_drifter_PT6H/history/GL_TS_DC_68246720_4601712.nc\u001b[39m\n",
      "Downloading \u001b[32mftp://my.cmems-du.eu/Core/INSITU_GLO_PHY_UV_DISCRETE_MY_013_044/cmems_obs-ins_glo_phy-cur_my_drifter_PT6H/history/GL_TS_DC_68247830_5102751.nc\u001b[39m\n",
      "Downloading \u001b[32mftp://my.cmems-du.eu/Core/INSITU_GLO_PHY_UV_DISCRETE_MY_013_044/cmems_obs-ins_glo_phy-cur_my_drifter_PT6H/history/GL_TS_DC_65417620_2101635.nc\u001b[39m\n",
      "Downloading \u001b[32mftp://my.cmems-du.eu/Core/INSITU_GLO_PHY_UV_DISCRETE_MY_013_044/cmems_obs-ins_glo_phy-cur_my_drifter_PT6H/history/GL_TS_DC_60428510_4601780.nc\u001b[39m\n",
      "Downloading \u001b[32mftp://my.cmems-du.eu/Core/INSITU_GLO_PHY_UV_DISCRETE_MY_013_044/cmems_obs-ins_glo_phy-cur_my_drifter_PT6H/history/GL_TS_DC_66392370_4401851.nc\u001b[39m\n",
      "Downloading \u001b[32mftp://my.cmems-du.eu/Core/INSITU_GLO_PHY_UV_DISCRETE_MY_013_044/cmems_obs-ins_glo_phy-cur_my_drifter_PT6H/history/GL_TS_DC_67274360_5102761.nc\u001b[39m\n",
      "Downloading \u001b[32mftp://my.cmems-du.eu/Core/INSITU_GLO_PHY_UV_DISCRETE_MY_013_044/cmems_obs-ins_glo_phy-cur_my_drifter_PT6H/history/GL_TS_DC_67275210_5102767.nc\u001b[39m\n",
      "Downloading \u001b[32mftp://my.cmems-du.eu/Core/INSITU_GLO_PHY_UV_DISCRETE_MY_013_044/cmems_obs-ins_glo_phy-cur_my_drifter_PT6H/history/GL_TS_DC_66437470_6202630.nc\u001b[39m\n",
      "Downloading \u001b[32mftp://my.cmems-du.eu/Core/INSITU_GLO_PHY_UV_DISCRETE_MY_013_044/cmems_obs-ins_glo_phy-cur_my_drifter_PT6H/history/GL_TS_DC_67876770_4402603.nc\u001b[39m\n",
      "Downloading \u001b[32mftp://my.cmems-du.eu/Core/INSITU_GLO_PHY_UV_DISCRETE_MY_013_044/cmems_obs-ins_glo_phy-cur_my_drifter_PT6H/history/GL_TS_DC_60613530_5201708.nc\u001b[39m\n",
      "Downloading \u001b[32mftp://my.cmems-du.eu/Core/INSITU_GLO_PHY_UV_DISCRETE_MY_013_044/cmems_obs-ins_glo_phy-cur_my_drifter_PT6H/history/GL_TS_DC_60714640_2101803.nc\u001b[39m\n",
      "Downloading \u001b[32mftp://my.cmems-du.eu/Core/INSITU_GLO_PHY_UV_DISCRETE_MY_013_044/cmems_obs-ins_glo_phy-cur_my_drifter_PT6H/history/GL_TS_DC_60716640_2101806.nc\u001b[39m\n",
      "Downloading \u001b[32mftp://my.cmems-du.eu/Core/INSITU_GLO_PHY_UV_DISCRETE_MY_013_044/cmems_obs-ins_glo_phy-cur_my_drifter_PT6H/history/GL_TS_DC_67174190_6203755.nc\u001b[39m\n",
      "Downloading \u001b[32mftp://my.cmems-du.eu/Core/INSITU_GLO_PHY_UV_DISCRETE_MY_013_044/cmems_obs-ins_glo_phy-cur_my_drifter_PT6H/history/GL_TS_DC_67541910_2101662.nc\u001b[39m\n",
      "Downloading \u001b[32mftp://my.cmems-du.eu/Core/INSITU_GLO_PHY_UV_DISCRETE_MY_013_044/cmems_obs-ins_glo_phy-cur_my_drifter_PT6H/history/GL_TS_DC_67542090_2101663.nc\u001b[39m\n",
      "Downloading \u001b[32mftp://my.cmems-du.eu/Core/INSITU_GLO_PHY_UV_DISCRETE_MY_013_044/cmems_obs-ins_glo_phy-cur_my_drifter_PT6H/history/GL_TS_DC_67649550_3201798.nc\u001b[39m\n",
      "Downloading \u001b[32mftp://my.cmems-du.eu/Core/INSITU_GLO_PHY_UV_DISCRETE_MY_013_044/cmems_obs-ins_glo_phy-cur_my_drifter_PT6H/history/GL_TS_DC_67876470_5102794.nc\u001b[39m\n",
      "Downloading \u001b[32mftp://my.cmems-du.eu/Core/INSITU_GLO_PHY_UV_DISCRETE_MY_013_044/cmems_obs-ins_glo_phy-cur_my_drifter_PT6H/history/GL_TS_DC_68341840_6501695.nc\u001b[39m\n",
      "Downloading \u001b[32mftp://my.cmems-du.eu/Core/INSITU_GLO_PHY_UV_DISCRETE_MY_013_044/cmems_obs-ins_glo_phy-cur_my_drifter_PT6H/history/GL_TS_DC_68349210_5102799.nc\u001b[39m\n",
      "Downloading \u001b[32mftp://my.cmems-du.eu/Core/INSITU_GLO_PHY_UV_DISCRETE_MY_013_044/cmems_obs-ins_glo_phy-cur_my_drifter_PT6H/history/GL_TS_DC_66310040_2101645.nc\u001b[39m\n",
      "Downloading \u001b[32mftp://my.cmems-du.eu/Core/INSITU_GLO_PHY_UV_DISCRETE_MY_013_044/cmems_obs-ins_glo_phy-cur_my_drifter_PT6H/history/GL_TS_DC_67541720_2101660.nc\u001b[39m\n",
      "Downloading \u001b[32mftp://my.cmems-du.eu/Core/INSITU_GLO_PHY_UV_DISCRETE_MY_013_044/cmems_obs-ins_glo_phy-cur_my_drifter_PT6H/history/GL_TS_DC_67541730_2101661.nc\u001b[39m\n",
      "Downloading \u001b[32mftp://my.cmems-du.eu/Core/INSITU_GLO_PHY_UV_DISCRETE_MY_013_044/cmems_obs-ins_glo_phy-cur_my_drifter_PT6H/history/GL_TS_DC_67543320_2101686.nc\u001b[39m\n",
      "Downloading \u001b[32mftp://my.cmems-du.eu/Core/INSITU_GLO_PHY_UV_DISCRETE_MY_013_044/cmems_obs-ins_glo_phy-cur_my_drifter_PT6H/history/GL_TS_DC_66391380_4401850.nc\u001b[39m\n",
      "Downloading \u001b[32mftp://my.cmems-du.eu/Core/INSITU_GLO_PHY_UV_DISCRETE_MY_013_044/cmems_obs-ins_glo_phy-cur_my_drifter_PT6H/history/GL_TS_DC_63947840_4301520.nc\u001b[39m\n",
      "Downloading \u001b[32mftp://my.cmems-du.eu/Core/INSITU_GLO_PHY_UV_DISCRETE_MY_013_044/cmems_obs-ins_glo_phy-cur_my_drifter_PT6H/history/GL_TS_DC_64503560_4101752.nc\u001b[39m\n",
      "Downloading \u001b[32mftp://my.cmems-du.eu/Core/INSITU_GLO_PHY_UV_DISCRETE_MY_013_044/cmems_obs-ins_glo_phy-cur_my_drifter_PT6H/history/GL_TS_DC_65416630_2101634.nc\u001b[39m\n",
      "Downloading \u001b[32mftp://my.cmems-du.eu/Core/INSITU_GLO_PHY_UV_DISCRETE_MY_013_044/cmems_obs-ins_glo_phy-cur_my_drifter_PT6H/history/GL_TS_DC_63472570_2101506.nc\u001b[39m\n",
      "Downloading \u001b[32mftp://my.cmems-du.eu/Core/INSITU_GLO_PHY_UV_DISCRETE_MY_013_044/cmems_obs-ins_glo_phy-cur_my_drifter_PT6H/history/GL_TS_DC_63892840_2101522.nc\u001b[39m\n",
      "Downloading \u001b[32mftp://my.cmems-du.eu/Core/INSITU_GLO_PHY_UV_DISCRETE_MY_013_044/cmems_obs-ins_glo_phy-cur_my_drifter_PT6H/history/GL_TS_DC_63893820_2101525.nc\u001b[39m\n",
      "Downloading \u001b[32mftp://my.cmems-du.eu/Core/INSITU_GLO_PHY_UV_DISCRETE_MY_013_044/cmems_obs-ins_glo_phy-cur_my_drifter_PT6H/history/GL_TS_DC_63893830_2101526.nc\u001b[39m\n",
      "Downloading \u001b[32mftp://my.cmems-du.eu/Core/INSITU_GLO_PHY_UV_DISCRETE_MY_013_044/cmems_obs-ins_glo_phy-cur_my_drifter_PT6H/history/GL_TS_DC_63894710_2101528.nc\u001b[39m\n",
      "Downloading \u001b[32mftp://my.cmems-du.eu/Core/INSITU_GLO_PHY_UV_DISCRETE_MY_013_044/cmems_obs-ins_glo_phy-cur_my_drifter_PT6H/history/GL_TS_DC_65417720_2101638.nc\u001b[39m\n",
      "Downloading \u001b[32mftp://my.cmems-du.eu/Core/INSITU_GLO_PHY_UV_DISCRETE_MY_013_044/cmems_obs-ins_glo_phy-cur_my_drifter_PT6H/history/GL_TS_DC_65514550_6102765.nc\u001b[39m\n",
      "Downloading \u001b[32mftp://my.cmems-du.eu/Core/INSITU_GLO_PHY_UV_DISCRETE_MY_013_044/cmems_obs-ins_glo_phy-cur_my_drifter_PT6H/history/GL_TS_DC_65608520_1401675.nc\u001b[39m\n",
      "Downloading \u001b[32mftp://my.cmems-du.eu/Core/INSITU_GLO_PHY_UV_DISCRETE_MY_013_044/cmems_obs-ins_glo_phy-cur_my_drifter_PT6H/history/GL_TS_DC_65703960_3101554.nc\u001b[39m\n",
      "Downloading \u001b[32mftp://my.cmems-du.eu/Core/INSITU_GLO_PHY_UV_DISCRETE_MY_013_044/cmems_obs-ins_glo_phy-cur_my_drifter_PT6H/history/GL_TS_DC_65707980_4601633.nc\u001b[39m\n",
      "Downloading \u001b[32mftp://my.cmems-du.eu/Core/INSITU_GLO_PHY_UV_DISCRETE_MY_013_044/cmems_obs-ins_glo_phy-cur_my_drifter_PT6H/history/GL_TS_DC_65708140_2101586.nc\u001b[39m\n",
      "Downloading \u001b[32mftp://my.cmems-du.eu/Core/INSITU_GLO_PHY_UV_DISCRETE_MY_013_044/cmems_obs-ins_glo_phy-cur_my_drifter_PT6H/history/GL_TS_DC_65708170_2101588.nc\u001b[39m\n",
      "Downloading \u001b[32mftp://my.cmems-du.eu/Core/INSITU_GLO_PHY_UV_DISCRETE_MY_013_044/cmems_obs-ins_glo_phy-cur_my_drifter_PT6H/history/GL_TS_DC_66336810_2101625.nc\u001b[39m\n",
      "Downloading \u001b[32mftp://my.cmems-du.eu/Core/INSITU_GLO_PHY_UV_DISCRETE_MY_013_044/cmems_obs-ins_glo_phy-cur_my_drifter_PT6H/history/GL_TS_DC_66513790_4402502.nc\u001b[39m\n",
      "Downloading \u001b[32mftp://my.cmems-du.eu/Core/INSITU_GLO_PHY_UV_DISCRETE_MY_013_044/cmems_obs-ins_glo_phy-cur_my_drifter_PT6H/history/GL_TS_DC_66612970_2101596.nc\u001b[39m\n",
      "Downloading \u001b[32mftp://my.cmems-du.eu/Core/INSITU_GLO_PHY_UV_DISCRETE_MY_013_044/cmems_obs-ins_glo_phy-cur_my_drifter_PT6H/history/GL_TS_DC_66613950_2101599.nc\u001b[39m\n",
      "Downloading \u001b[32mftp://my.cmems-du.eu/Core/INSITU_GLO_PHY_UV_DISCRETE_MY_013_044/cmems_obs-ins_glo_phy-cur_my_drifter_PT6H/history/GL_TS_DC_66896200_6203641.nc\u001b[39m\n",
      "Downloading \u001b[32mftp://my.cmems-du.eu/Core/INSITU_GLO_PHY_UV_DISCRETE_MY_013_044/cmems_obs-ins_glo_phy-cur_my_drifter_PT6H/history/GL_TS_DC_66911830_5102696.nc\u001b[39m\n",
      "Downloading \u001b[32mftp://my.cmems-du.eu/Core/INSITU_GLO_PHY_UV_DISCRETE_MY_013_044/cmems_obs-ins_glo_phy-cur_my_drifter_PT6H/history/GL_TS_DC_67544310_5201674.nc\u001b[39m\n",
      "Downloading \u001b[32mftp://my.cmems-du.eu/Core/INSITU_GLO_PHY_UV_DISCRETE_MY_013_044/cmems_obs-ins_glo_phy-cur_my_drifter_PT6H/history/GL_TS_DC_67545350_5201682.nc\u001b[39m\n",
      "Downloading \u001b[32mftp://my.cmems-du.eu/Core/INSITU_GLO_PHY_UV_DISCRETE_MY_013_044/cmems_obs-ins_glo_phy-cur_my_drifter_PT6H/history/GL_TS_DC_67976270_6102782.nc\u001b[39m\n",
      "Downloading \u001b[32mftp://my.cmems-du.eu/Core/INSITU_GLO_PHY_UV_DISCRETE_MY_013_044/cmems_obs-ins_glo_phy-cur_my_drifter_PT6H/history/GL_TS_DC_67976490_6102784.nc\u001b[39m\n",
      "Downloading \u001b[32mftp://my.cmems-du.eu/Core/INSITU_GLO_PHY_UV_DISCRETE_MY_013_044/cmems_obs-ins_glo_phy-cur_my_drifter_PT6H/history/GL_TS_DC_68340550_6102773.nc\u001b[39m\n",
      "Downloading \u001b[32mftp://my.cmems-du.eu/Core/INSITU_GLO_PHY_UV_DISCRETE_MY_013_044/cmems_obs-ins_glo_phy-cur_my_drifter_PT6H/history/GL_TS_DC_68340290_6102770.nc\u001b[39m\n",
      "Downloading \u001b[32mftp://my.cmems-du.eu/Core/INSITU_GLO_PHY_UV_DISCRETE_MY_013_044/cmems_obs-ins_glo_phy-cur_my_drifter_PT6H/history/GL_TS_DC_63243480_4601655.nc\u001b[39m\n",
      "Downloading \u001b[32mftp://my.cmems-du.eu/Core/INSITU_GLO_PHY_UV_DISCRETE_MY_013_044/cmems_obs-ins_glo_phy-cur_my_drifter_PT6H/history/GL_TS_DC_63320730_4601586.nc\u001b[39m\n",
      "Downloading \u001b[32mftp://my.cmems-du.eu/Core/INSITU_GLO_PHY_UV_DISCRETE_MY_013_044/cmems_obs-ins_glo_phy-cur_my_drifter_PT6H/history/GL_TS_DC_63891840_2101512.nc\u001b[39m\n",
      "Downloading \u001b[32mftp://my.cmems-du.eu/Core/INSITU_GLO_PHY_UV_DISCRETE_MY_013_044/cmems_obs-ins_glo_phy-cur_my_drifter_PT6H/history/GL_TS_DC_63892910_2101523.nc\u001b[39m\n",
      "Downloading \u001b[32mftp://my.cmems-du.eu/Core/INSITU_GLO_PHY_UV_DISCRETE_MY_013_044/cmems_obs-ins_glo_phy-cur_my_drifter_PT6H/history/GL_TS_DC_63947580_5301531.nc\u001b[39m\n",
      "Downloading \u001b[32mftp://my.cmems-du.eu/Core/INSITU_GLO_PHY_UV_DISCRETE_MY_013_044/cmems_obs-ins_glo_phy-cur_my_drifter_PT6H/history/GL_TS_DC_64734820_4601648.nc\u001b[39m\n",
      "Downloading \u001b[32mftp://my.cmems-du.eu/Core/INSITU_GLO_PHY_UV_DISCRETE_MY_013_044/cmems_obs-ins_glo_phy-cur_my_drifter_PT6H/history/GL_TS_DC_64734970_2101571.nc\u001b[39m\n",
      "Downloading \u001b[32mftp://my.cmems-du.eu/Core/INSITU_GLO_PHY_UV_DISCRETE_MY_013_044/cmems_obs-ins_glo_phy-cur_my_drifter_PT6H/history/GL_TS_DC_64821420_4601617.nc\u001b[39m\n",
      "Downloading \u001b[32mftp://my.cmems-du.eu/Core/INSITU_GLO_PHY_UV_DISCRETE_MY_013_044/cmems_obs-ins_glo_phy-cur_my_drifter_PT6H/history/GL_TS_DC_65417650_2101637.nc\u001b[39m\n",
      "Downloading \u001b[32mftp://my.cmems-du.eu/Core/INSITU_GLO_PHY_UV_DISCRETE_MY_013_044/cmems_obs-ins_glo_phy-cur_my_drifter_PT6H/history/GL_TS_DC_65618270_6102762.nc\u001b[39m\n",
      "Downloading \u001b[32mftp://my.cmems-du.eu/Core/INSITU_GLO_PHY_UV_DISCRETE_MY_013_044/cmems_obs-ins_glo_phy-cur_my_drifter_PT6H/history/GL_TS_DC_65707970_4601631.nc\u001b[39m\n",
      "Downloading \u001b[32mftp://my.cmems-du.eu/Core/INSITU_GLO_PHY_UV_DISCRETE_MY_013_044/cmems_obs-ins_glo_phy-cur_my_drifter_PT6H/history/GL_TS_DC_65708110_4601663.nc\u001b[39m\n",
      "Downloading \u001b[32mftp://my.cmems-du.eu/Core/INSITU_GLO_PHY_UV_DISCRETE_MY_013_044/cmems_obs-ins_glo_phy-cur_my_drifter_PT6H/history/GL_TS_DC_65708130_4601665.nc\u001b[39m\n",
      "Downloading \u001b[32mftp://my.cmems-du.eu/Core/INSITU_GLO_PHY_UV_DISCRETE_MY_013_044/cmems_obs-ins_glo_phy-cur_my_drifter_PT6H/history/GL_TS_DC_66432300_4601681.nc\u001b[39m\n",
      "Downloading \u001b[32mftp://my.cmems-du.eu/Core/INSITU_GLO_PHY_UV_DISCRETE_MY_013_044/cmems_obs-ins_glo_phy-cur_my_drifter_PT6H/history/GL_TS_DC_67544320_5201675.nc\u001b[39m\n",
      "Downloading \u001b[32mftp://my.cmems-du.eu/Core/INSITU_GLO_PHY_UV_DISCRETE_MY_013_044/cmems_obs-ins_glo_phy-cur_my_drifter_PT6H/history/GL_TS_DC_67544710_5201676.nc\u001b[39m\n",
      "Downloading \u001b[32mftp://my.cmems-du.eu/Core/INSITU_GLO_PHY_UV_DISCRETE_MY_013_044/cmems_obs-ins_glo_phy-cur_my_drifter_PT6H/history/GL_TS_DC_67545070_5201678.nc\u001b[39m\n",
      "Downloading \u001b[32mftp://my.cmems-du.eu/Core/INSITU_GLO_PHY_UV_DISCRETE_MY_013_044/cmems_obs-ins_glo_phy-cur_my_drifter_PT6H/history/GL_TS_DC_67548860_6202690.nc\u001b[39m\n",
      "Downloading \u001b[32mftp://my.cmems-du.eu/Core/INSITU_GLO_PHY_UV_DISCRETE_MY_013_044/cmems_obs-ins_glo_phy-cur_my_drifter_PT6H/history/GL_TS_DC_67548900_6202692.nc\u001b[39m\n",
      "Downloading \u001b[32mftp://my.cmems-du.eu/Core/INSITU_GLO_PHY_UV_DISCRETE_MY_013_044/cmems_obs-ins_glo_phy-cur_my_drifter_PT6H/history/GL_TS_DC_67549120_6202694.nc\u001b[39m\n",
      "Downloading \u001b[32mftp://my.cmems-du.eu/Core/INSITU_GLO_PHY_UV_DISCRETE_MY_013_044/cmems_obs-ins_glo_phy-cur_my_drifter_PT6H/history/GL_TS_DC_67549320_6202695.nc\u001b[39m\n",
      "Downloading \u001b[32mftp://my.cmems-du.eu/Core/INSITU_GLO_PHY_UV_DISCRETE_MY_013_044/cmems_obs-ins_glo_phy-cur_my_drifter_PT6H/history/GL_TS_DC_68340250_6102766.nc\u001b[39m\n",
      "Downloading \u001b[32mftp://my.cmems-du.eu/Core/INSITU_GLO_PHY_UV_DISCRETE_MY_013_044/cmems_obs-ins_glo_phy-cur_my_drifter_PT6H/history/GL_TS_DC_68340260_6102767.nc\u001b[39m\n",
      "Downloading \u001b[32mftp://my.cmems-du.eu/Core/INSITU_GLO_PHY_UV_DISCRETE_MY_013_044/cmems_obs-ins_glo_phy-cur_my_drifter_PT6H/history/GL_TS_DC_68340280_6102769.nc\u001b[39m\n",
      "Downloading \u001b[32mftp://my.cmems-du.eu/Core/INSITU_GLO_PHY_UV_DISCRETE_MY_013_044/cmems_obs-ins_glo_phy-cur_my_drifter_PT6H/history/GL_TS_DC_68340350_6102771.nc\u001b[39m\n",
      "Downloading \u001b[32mftp://my.cmems-du.eu/Core/INSITU_GLO_PHY_UV_DISCRETE_MY_013_044/cmems_obs-ins_glo_phy-cur_my_drifter_PT6H/history/GL_TS_DC_68340450_6102772.nc\u001b[39m\n",
      "Downloading \u001b[32mftp://my.cmems-du.eu/Core/INSITU_GLO_PHY_UV_DISCRETE_MY_013_044/cmems_obs-ins_glo_phy-cur_my_drifter_PT6H/history/GL_TS_DC_62955610_2101539.nc\u001b[39m\n",
      "Downloading \u001b[32mftp://my.cmems-du.eu/Core/INSITU_GLO_PHY_UV_DISCRETE_MY_013_044/cmems_obs-ins_glo_phy-cur_my_drifter_PT6H/history/GL_TS_DC_127099_4600787.nc\u001b[39m\n",
      "Downloading \u001b[32mftp://my.cmems-du.eu/Core/INSITU_GLO_PHY_UV_DISCRETE_MY_013_044/cmems_obs-ins_glo_phy-cur_my_drifter_PT6H/history/GL_TS_DC_127149_5100833.nc\u001b[39m\n",
      "Downloading \u001b[32mftp://my.cmems-du.eu/Core/INSITU_GLO_PHY_UV_DISCRETE_MY_013_044/cmems_obs-ins_glo_phy-cur_my_drifter_PT6H/history/GL_TS_DC_127192_5100835.nc\u001b[39m\n",
      "Downloading \u001b[32mftp://my.cmems-du.eu/Core/INSITU_GLO_PHY_UV_DISCRETE_MY_013_044/cmems_obs-ins_glo_phy-cur_my_drifter_PT6H/history/GL_TS_DC_127308_5100802.nc\u001b[39m\n",
      "Downloading \u001b[32mftp://my.cmems-du.eu/Core/INSITU_GLO_PHY_UV_DISCRETE_MY_013_044/cmems_obs-ins_glo_phy-cur_my_drifter_PT6H/history/GL_TS_DC_63942710_4101572.nc\u001b[39m\n",
      "Downloading \u001b[32mftp://my.cmems-du.eu/Core/INSITU_GLO_PHY_UV_DISCRETE_MY_013_044/cmems_obs-ins_glo_phy-cur_my_drifter_PT6H/history/GL_TS_DC_63946910_4301515.nc\u001b[39m\n",
      "Downloading \u001b[32mftp://my.cmems-du.eu/Core/INSITU_GLO_PHY_UV_DISCRETE_MY_013_044/cmems_obs-ins_glo_phy-cur_my_drifter_PT6H/history/GL_TS_DC_63947770_4301517.nc\u001b[39m\n",
      "Downloading \u001b[32mftp://my.cmems-du.eu/Core/INSITU_GLO_PHY_UV_DISCRETE_MY_013_044/cmems_obs-ins_glo_phy-cur_my_drifter_PT6H/history/GL_TS_DC_63948900_2201555.nc\u001b[39m\n",
      "Downloading \u001b[32mftp://my.cmems-du.eu/Core/INSITU_GLO_PHY_UV_DISCRETE_MY_013_044/cmems_obs-ins_glo_phy-cur_my_drifter_PT6H/history/GL_TS_DC_63949580_2101581.nc\u001b[39m\n",
      "Downloading \u001b[32mftp://my.cmems-du.eu/Core/INSITU_GLO_PHY_UV_DISCRETE_MY_013_044/cmems_obs-ins_glo_phy-cur_my_drifter_PT6H/history/GL_TS_DC_64504410_4401568.nc\u001b[39m\n",
      "Downloading \u001b[32mftp://my.cmems-du.eu/Core/INSITU_GLO_PHY_UV_DISCRETE_MY_013_044/cmems_obs-ins_glo_phy-cur_my_drifter_PT6H/history/GL_TS_DC_145855_5100828.nc\u001b[39m\n",
      "Downloading \u001b[32mftp://my.cmems-du.eu/Core/INSITU_GLO_PHY_UV_DISCRETE_MY_013_044/cmems_obs-ins_glo_phy-cur_my_drifter_PT6H/history/GL_TS_DC_65317640_4401789.nc\u001b[39m\n",
      "Downloading \u001b[32mftp://my.cmems-du.eu/Core/INSITU_GLO_PHY_UV_DISCRETE_MY_013_044/cmems_obs-ins_glo_phy-cur_my_drifter_PT6H/history/GL_TS_DC_65416620_2101633.nc\u001b[39m\n",
      "Downloading \u001b[32mftp://my.cmems-du.eu/Core/INSITU_GLO_PHY_UV_DISCRETE_MY_013_044/cmems_obs-ins_glo_phy-cur_my_drifter_PT6H/history/GL_TS_DC_65480870_2101605.nc\u001b[39m\n",
      "Downloading \u001b[32mftp://my.cmems-du.eu/Core/INSITU_GLO_PHY_UV_DISCRETE_MY_013_044/cmems_obs-ins_glo_phy-cur_my_drifter_PT6H/history/GL_TS_DC_65511330_6102520.nc\u001b[39m\n",
      "Downloading \u001b[32mftp://my.cmems-du.eu/Core/INSITU_GLO_PHY_UV_DISCRETE_MY_013_044/cmems_obs-ins_glo_phy-cur_my_drifter_PT6H/history/GL_TS_DC_65580650_6401539.nc\u001b[39m\n",
      "Downloading \u001b[32mftp://my.cmems-du.eu/Core/INSITU_GLO_PHY_UV_DISCRETE_MY_013_044/cmems_obs-ins_glo_phy-cur_my_drifter_PT6H/history/GL_TS_DC_65616590_6102574.nc\u001b[39m\n",
      "Downloading \u001b[32mftp://my.cmems-du.eu/Core/INSITU_GLO_PHY_UV_DISCRETE_MY_013_044/cmems_obs-ins_glo_phy-cur_my_drifter_PT6H/history/GL_TS_DC_65619140_6102764.nc\u001b[39m\n",
      "Downloading \u001b[32mftp://my.cmems-du.eu/Core/INSITU_GLO_PHY_UV_DISCRETE_MY_013_044/cmems_obs-ins_glo_phy-cur_my_drifter_PT6H/history/GL_TS_DC_65703770_3301553.nc\u001b[39m\n",
      "Downloading \u001b[32mftp://my.cmems-du.eu/Core/INSITU_GLO_PHY_UV_DISCRETE_MY_013_044/cmems_obs-ins_glo_phy-cur_my_drifter_PT6H/history/GL_TS_DC_65703810_3101552.nc\u001b[39m\n",
      "Downloading \u001b[32mftp://my.cmems-du.eu/Core/INSITU_GLO_PHY_UV_DISCRETE_MY_013_044/cmems_obs-ins_glo_phy-cur_my_drifter_PT6H/history/GL_TS_DC_65706470_6102507.nc\u001b[39m\n",
      "Downloading \u001b[32mftp://my.cmems-du.eu/Core/INSITU_GLO_PHY_UV_DISCRETE_MY_013_044/cmems_obs-ins_glo_phy-cur_my_drifter_PT6H/history/GL_TS_DC_66021100_4601690.nc\u001b[39m\n",
      "Downloading \u001b[32mftp://my.cmems-du.eu/Core/INSITU_GLO_PHY_UV_DISCRETE_MY_013_044/cmems_obs-ins_glo_phy-cur_my_drifter_PT6H/history/GL_TS_DC_66089200_4401573.nc\u001b[39m\n",
      "Downloading \u001b[32mftp://my.cmems-du.eu/Core/INSITU_GLO_PHY_UV_DISCRETE_MY_013_044/cmems_obs-ins_glo_phy-cur_my_drifter_PT6H/history/GL_TS_DC_66318040_6102599.nc\u001b[39m\n",
      "Downloading \u001b[32mftp://my.cmems-du.eu/Core/INSITU_GLO_PHY_UV_DISCRETE_MY_013_044/cmems_obs-ins_glo_phy-cur_my_drifter_PT6H/history/GL_TS_DC_66432030_2101621.nc\u001b[39m\n",
      "Downloading \u001b[32mftp://my.cmems-du.eu/Core/INSITU_GLO_PHY_UV_DISCRETE_MY_013_044/cmems_obs-ins_glo_phy-cur_my_drifter_PT6H/history/GL_TS_DC_63472560_2101505.nc\u001b[39m\n",
      "Downloading \u001b[32mftp://my.cmems-du.eu/Core/INSITU_GLO_PHY_UV_DISCRETE_MY_013_044/cmems_obs-ins_glo_phy-cur_my_drifter_PT6H/history/GL_TS_DC_66613850_2101597.nc\u001b[39m\n",
      "Downloading \u001b[32mftp://my.cmems-du.eu/Core/INSITU_GLO_PHY_UV_DISCRETE_MY_013_044/cmems_obs-ins_glo_phy-cur_my_drifter_PT6H/history/GL_TS_DC_67544170_5201673.nc\u001b[39m\n",
      "Downloading \u001b[32mftp://my.cmems-du.eu/Core/INSITU_GLO_PHY_UV_DISCRETE_MY_013_044/cmems_obs-ins_glo_phy-cur_my_drifter_PT6H/history/GL_TS_DC_67548320_6202685.nc\u001b[39m\n",
      "Downloading \u001b[32mftp://my.cmems-du.eu/Core/INSITU_GLO_PHY_UV_DISCRETE_MY_013_044/cmems_obs-ins_glo_phy-cur_my_drifter_PT6H/history/GL_TS_DC_67548330_6202686.nc\u001b[39m\n",
      "Downloading \u001b[32mftp://my.cmems-du.eu/Core/INSITU_GLO_PHY_UV_DISCRETE_MY_013_044/cmems_obs-ins_glo_phy-cur_my_drifter_PT6H/history/GL_TS_DC_67548560_6202687.nc\u001b[39m\n",
      "Downloading \u001b[32mftp://my.cmems-du.eu/Core/INSITU_GLO_PHY_UV_DISCRETE_MY_013_044/cmems_obs-ins_glo_phy-cur_my_drifter_PT6H/history/GL_TS_DC_67548710_6202688.nc\u001b[39m\n",
      "Downloading \u001b[32mftp://my.cmems-du.eu/Core/INSITU_GLO_PHY_UV_DISCRETE_MY_013_044/cmems_obs-ins_glo_phy-cur_my_drifter_PT6H/history/GL_TS_DC_67548720_6202689.nc\u001b[39m\n",
      "Downloading \u001b[32mftp://my.cmems-du.eu/Core/INSITU_GLO_PHY_UV_DISCRETE_MY_013_044/cmems_obs-ins_glo_phy-cur_my_drifter_PT6H/history/GL_TS_DC_67548890_6202691.nc\u001b[39m\n",
      "Downloading \u001b[32mftp://my.cmems-du.eu/Core/INSITU_GLO_PHY_UV_DISCRETE_MY_013_044/cmems_obs-ins_glo_phy-cur_my_drifter_PT6H/history/GL_TS_DC_67549100_6202693.nc\u001b[39m\n",
      "Downloading \u001b[32mftp://my.cmems-du.eu/Core/INSITU_GLO_PHY_UV_DISCRETE_MY_013_044/cmems_obs-ins_glo_phy-cur_my_drifter_PT6H/history/GL_TS_DC_67976310_6102783.nc\u001b[39m\n",
      "Downloading \u001b[32mftp://my.cmems-du.eu/Core/INSITU_GLO_PHY_UV_DISCRETE_MY_013_044/cmems_obs-ins_glo_phy-cur_my_drifter_PT6H/history/GL_TS_DC_67976500_6102785.nc\u001b[39m\n",
      "Downloading \u001b[32mftp://my.cmems-du.eu/Core/INSITU_GLO_PHY_UV_DISCRETE_MY_013_044/cmems_obs-ins_glo_phy-cur_my_drifter_PT6H/history/GL_TS_DC_68340270_6102768.nc\u001b[39m\n",
      "Downloading \u001b[32mftp://my.cmems-du.eu/Core/INSITU_GLO_PHY_UV_DISCRETE_MY_013_044/cmems_obs-ins_glo_phy-cur_my_drifter_PT6H/history/GL_TS_DC_64808190_2101545.nc\u001b[39m\n",
      "Downloading \u001b[32mftp://my.cmems-du.eu/Core/INSITU_GLO_PHY_UV_DISCRETE_MY_013_044/cmems_obs-ins_glo_phy-cur_my_drifter_PT6H/history/GL_TS_DC_64821340_4601613.nc\u001b[39m\n",
      "Downloading \u001b[32mftp://my.cmems-du.eu/Core/INSITU_GLO_PHY_UV_DISCRETE_MY_013_044/cmems_obs-ins_glo_phy-cur_my_drifter_PT6H/history/GL_TS_DC_65618280_6102763.nc\u001b[39m\n",
      "Downloading \u001b[32mftp://my.cmems-du.eu/Core/INSITU_GLO_PHY_UV_DISCRETE_MY_013_044/cmems_obs-ins_glo_phy-cur_my_drifter_PT6H/history/GL_TS_DC_65416430_2101632.nc\u001b[39m\n",
      "Downloading \u001b[32mftp://my.cmems-du.eu/Core/INSITU_GLO_PHY_UV_DISCRETE_MY_013_044/cmems_obs-ins_glo_phy-cur_my_drifter_PT6H/history/GL_TS_DC_65618290_6102761.nc\u001b[39m\n",
      "Downloading \u001b[32mftp://my.cmems-du.eu/Core/INSITU_GLO_PHY_UV_DISCRETE_MY_013_044/cmems_obs-ins_glo_phy-cur_my_drifter_PT6H/history/GL_TS_DC_65706480_6102508.nc\u001b[39m\n",
      "Downloading \u001b[32mftp://my.cmems-du.eu/Core/INSITU_GLO_PHY_UV_DISCRETE_MY_013_044/cmems_obs-ins_glo_phy-cur_my_drifter_PT6H/history/GL_TS_DC_66302460_6203589.nc\u001b[39m\n"
     ]
    },
    {
     "data": {
      "text/plain": [
       "183-element Vector{String}:\n",
       " \"my.cmems-du.eu/Core/INSITU_GLO_\" ⋯ 74 bytes ⋯ \"ry/GL_TS_DC_63472530_2101504.nc\"\n",
       " \"my.cmems-du.eu/Core/INSITU_GLO_\" ⋯ 74 bytes ⋯ \"ry/GL_TS_DC_63893840_2101527.nc\"\n",
       " \"my.cmems-du.eu/Core/INSITU_GLO_\" ⋯ 74 bytes ⋯ \"ry/GL_TS_DC_63123200_5102534.nc\"\n",
       " \"my.cmems-du.eu/Core/INSITU_GLO_\" ⋯ 74 bytes ⋯ \"ry/GL_TS_DC_63891650_2101510.nc\"\n",
       " \"my.cmems-du.eu/Core/INSITU_GLO_\" ⋯ 74 bytes ⋯ \"ry/GL_TS_DC_63892700_2101518.nc\"\n",
       " \"my.cmems-du.eu/Core/INSITU_GLO_\" ⋯ 74 bytes ⋯ \"ry/GL_TS_DC_63892750_2101520.nc\"\n",
       " \"my.cmems-du.eu/Core/INSITU_GLO_\" ⋯ 74 bytes ⋯ \"ry/GL_TS_DC_63892830_2101521.nc\"\n",
       " \"my.cmems-du.eu/Core/INSITU_GLO_\" ⋯ 74 bytes ⋯ \"ry/GL_TS_DC_63943320_2201537.nc\"\n",
       " \"my.cmems-du.eu/Core/INSITU_GLO_\" ⋯ 74 bytes ⋯ \"ry/GL_TS_DC_63993420_5201555.nc\"\n",
       " \"my.cmems-du.eu/Core/INSITU_GLO_\" ⋯ 74 bytes ⋯ \"ry/GL_TS_DC_64500600_6203601.nc\"\n",
       " \"my.cmems-du.eu/Core/INSITU_GLO_\" ⋯ 74 bytes ⋯ \"ry/GL_TS_DC_64735130_2101572.nc\"\n",
       " \"my.cmems-du.eu/Core/INSITU_GLO_\" ⋯ 74 bytes ⋯ \"ry/GL_TS_DC_64829360_5102581.nc\"\n",
       " \"my.cmems-du.eu/Core/INSITU_GLO_\" ⋯ 74 bytes ⋯ \"ry/GL_TS_DC_65708620_2101593.nc\"\n",
       " ⋮\n",
       " \"my.cmems-du.eu/Core/INSITU_GLO_\" ⋯ 74 bytes ⋯ \"ry/GL_TS_DC_67548890_6202691.nc\"\n",
       " \"my.cmems-du.eu/Core/INSITU_GLO_\" ⋯ 74 bytes ⋯ \"ry/GL_TS_DC_67549100_6202693.nc\"\n",
       " \"my.cmems-du.eu/Core/INSITU_GLO_\" ⋯ 74 bytes ⋯ \"ry/GL_TS_DC_67976310_6102783.nc\"\n",
       " \"my.cmems-du.eu/Core/INSITU_GLO_\" ⋯ 74 bytes ⋯ \"ry/GL_TS_DC_67976500_6102785.nc\"\n",
       " \"my.cmems-du.eu/Core/INSITU_GLO_\" ⋯ 74 bytes ⋯ \"ry/GL_TS_DC_68340270_6102768.nc\"\n",
       " \"my.cmems-du.eu/Core/INSITU_GLO_\" ⋯ 74 bytes ⋯ \"ry/GL_TS_DC_64808190_2101545.nc\"\n",
       " \"my.cmems-du.eu/Core/INSITU_GLO_\" ⋯ 74 bytes ⋯ \"ry/GL_TS_DC_64821340_4601613.nc\"\n",
       " \"my.cmems-du.eu/Core/INSITU_GLO_\" ⋯ 74 bytes ⋯ \"ry/GL_TS_DC_65618280_6102763.nc\"\n",
       " \"my.cmems-du.eu/Core/INSITU_GLO_\" ⋯ 74 bytes ⋯ \"ry/GL_TS_DC_65416430_2101632.nc\"\n",
       " \"my.cmems-du.eu/Core/INSITU_GLO_\" ⋯ 74 bytes ⋯ \"ry/GL_TS_DC_65618290_6102761.nc\"\n",
       " \"my.cmems-du.eu/Core/INSITU_GLO_\" ⋯ 74 bytes ⋯ \"ry/GL_TS_DC_65706480_6102508.nc\"\n",
       " \"my.cmems-du.eu/Core/INSITU_GLO_\" ⋯ 74 bytes ⋯ \"ry/GL_TS_DC_66302460_6203589.nc\""
      ]
     },
     "execution_count": 7,
     "metadata": {},
     "output_type": "execute_result"
    }
   ],
   "source": [
    "files = CMEMS.download(lonr,latr,timerange,param,username,password,drifter_dir; indexURLs = indexURLs)"
   ]
  },
  {
   "cell_type": "code",
   "execution_count": null,
   "id": "41a50485-0b0e-431a-b66a-568d6a9f0e04",
   "metadata": {},
   "outputs": [],
   "source": []
  }
 ],
 "metadata": {
  "kernelspec": {
   "display_name": "Julia 1.9.3",
   "language": "julia",
   "name": "julia-1.9"
  },
  "language_info": {
   "file_extension": ".jl",
   "mimetype": "application/julia",
   "name": "julia",
   "version": "1.9.3"
  }
 },
 "nbformat": 4,
 "nbformat_minor": 5
}
