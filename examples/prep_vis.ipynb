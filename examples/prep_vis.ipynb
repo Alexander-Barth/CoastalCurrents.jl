{
 "cells": [
  {
   "cell_type": "code",
   "execution_count": null,
   "id": "f917ae29",
   "metadata": {},
   "outputs": [],
   "source": [
    "using NCDatasets\n",
    "using CoastalCurrents"
   ]
  },
  {
   "cell_type": "code",
   "execution_count": null,
   "id": "7702485a",
   "metadata": {},
   "outputs": [],
   "source": [
    "include(\"common.jl\")"
   ]
  },
  {
   "cell_type": "code",
   "execution_count": null,
   "id": "29b8c3d6",
   "metadata": {},
   "outputs": [],
   "source": [
    "ds = NCDataset(result_filename)"
   ]
  },
  {
   "cell_type": "code",
   "execution_count": null,
   "id": "9cfc4f86",
   "metadata": {
    "lines_to_next_cell": 2
   },
   "outputs": [],
   "source": [
    "n = 1\n",
    "xi = ds[\"lon\"][:]\n",
    "yi = ds[\"lat\"][:]\n",
    "time = ds[\"time\"][n]\n",
    "uri = ds[\"u\"][:,:,n]\n",
    "vri = ds[\"v\"][:,:,n]"
   ]
  },
  {
   "cell_type": "code",
   "execution_count": null,
   "id": "26e9e986",
   "metadata": {},
   "outputs": [],
   "source": [
    "CoastalCurrents.nc2json(xi,yi,time,uri,vri,\"/tmp/foo.json\"; reduce = 1)"
   ]
  }
 ],
 "metadata": {
  "jupytext": {
   "cell_metadata_filter": "-all"
  },
  "kernelspec": {
   "display_name": "Julia 1.9.2",
   "language": "julia",
   "name": "julia-1.9"
  }
 },
 "nbformat": 4,
 "nbformat_minor": 5
}
